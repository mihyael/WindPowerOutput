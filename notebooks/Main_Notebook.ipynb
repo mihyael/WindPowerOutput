{
 "cells": [
  {
   "cell_type": "code",
   "execution_count": 53,
   "metadata": {},
   "outputs": [],
   "source": [
    "import numpy as np\n",
    "import pandas as pd\n",
    "from datetime import datetime, timedelta"
   ]
  },
  {
   "cell_type": "code",
   "execution_count": 3,
   "metadata": {},
   "outputs": [],
   "source": [
    "# Test of Package Import\n",
    "from winderpoweroutput.main.main import test\n",
    "test()"
   ]
  },
  {
   "cell_type": "markdown",
   "metadata": {},
   "source": [
    "## NetCDF Data Reading"
   ]
  },
  {
   "cell_type": "markdown",
   "metadata": {},
   "source": [
    "NetCDF - Network Common Data Form"
   ]
  },
  {
   "cell_type": "code",
   "execution_count": 4,
   "metadata": {},
   "outputs": [],
   "source": [
    "import netCDF4 as nc"
   ]
  },
  {
   "cell_type": "code",
   "execution_count": 10,
   "metadata": {},
   "outputs": [],
   "source": [
    "path_norre = '../raw_data/Norre DK Windfarm SCADA data/norre_m2_all.nc'\n",
    "ds = nc.Dataset(path_norre)"
   ]
  },
  {
   "cell_type": "code",
   "execution_count": 14,
   "metadata": {},
   "outputs": [
    {
     "name": "stdout",
     "output_type": "stream",
     "text": [
      "{'title': 'Wind farm data from Norrekaer Enge, DK', 'authors': 'Kurt Schaldemose Hansen, Nikola Vasiljević and Steen Arne Sørensen', 'summary': 'This dataset includes SCADA data and mast measurements from the 42 turbines in Norrekaer Enge windfarm. The period \\nincludes more than 1 year of statistics, which includes turbine power, nacelle wind speed and yaw position for each \\nwind turbine. Furthermore, speed and wind direction signals from the 2 masts have been included.\\nCheck the report at https://doi.org/10.5281/zenodo.4580573 for more details.\\n', 'comment': '', 'history': '2022-01-27T10:49:35\\tUpdated metadata information\\n2022-01-27T10:49:36\\tNetCDF created and stored on local machine', 'institution': 'DTU Wind Energy', 'naming_authority': 'DTU Data', 'doi': 'https://doi.org/10.11583/DTU.19076756', 'format': 'DTU Wind Energy 1.0 NetCDF', 'Conventions': 'CF-1.8', 'license': 'CC BY NC 4.0', 'distribution_statement': 'These data follow DTU Wind Energy standards; they are public and free of charge.\\nUser assumes all risk for use of data. User must display citation in any publication or product using data.\\nUser must contact DTU Wind Energy prior to any commercial use of data.\\n', 'citation': '', 'site': 'Norre_m2', 'country': 'DK', 'northBoundLatitude': 57.001731, 'southBoundLatitude': 57.001731, 'eastBoundLongitude': 9.409744, 'westBoundLongitude': 9.409744, 'altitude': -3, 'featureType': 'trajectoryProfile', 'cdm_data_type': 'Trajectory', 'date_create': '2022-01-27T10:49:35', 'date_update': '2022-01-27T10:49:35', 'data_mode': 'Mixed', 'source': 'physical'}\n",
      "Wind farm data from Norrekaer Enge, DK\n"
     ]
    }
   ],
   "source": [
    "# print meta data\n",
    "# print(ds)\n",
    "print(ds.__dict__)\n",
    "\n",
    "# print meta data item\n",
    "print(ds.__dict__['title'])"
   ]
  },
  {
   "cell_type": "code",
   "execution_count": 16,
   "metadata": {},
   "outputs": [
    {
     "data": {
      "text/plain": [
       "dict_values([<class 'netCDF4._netCDF4.Dimension'>: name = 'time', size = 72577])"
      ]
     },
     "execution_count": 16,
     "metadata": {},
     "output_type": "execute_result"
    }
   ],
   "source": [
    "# access dimensions\n",
    "ds.dimensions # here only time dimension"
   ]
  },
  {
   "cell_type": "code",
   "execution_count": 25,
   "metadata": {},
   "outputs": [
    {
     "name": "stdout",
     "output_type": "stream",
     "text": [
      "<class 'netCDF4._netCDF4.Variable'>\n",
      "int64 time(time)\n",
      "    units: minutes since 1991-12-22 23:36:00\n",
      "    calendar: proleptic_gregorian\n",
      "unlimited dimensions: \n",
      "current shape = (72577,)\n",
      "filling on, default _FillValue of -9223372036854775806 used\n"
     ]
    }
   ],
   "source": [
    "# access variable metadata\n",
    "# for vars in ds.variables.values():\n",
    "#     print(vars)\n",
    "\n",
    "# access variable names\n",
    "ds.variables.keys()\n",
    "\n",
    "# access single variable meta data\n",
    "print(ds['time'])"
   ]
  },
  {
   "cell_type": "code",
   "execution_count": 29,
   "metadata": {},
   "outputs": [
    {
     "data": {
      "text/plain": [
       "masked_array(data=[53905, 53915, 53925, 53935, 53945],\n",
       "             mask=False,\n",
       "       fill_value=999999)"
      ]
     },
     "execution_count": 29,
     "metadata": {},
     "output_type": "execute_result"
    }
   ],
   "source": [
    "# access actual data of variable\n",
    "ds['time'][:]\n",
    "\n",
    "# return subset\n",
    "ds['time'][4000:4005]"
   ]
  },
  {
   "cell_type": "markdown",
   "metadata": {},
   "source": [
    "## Data Exploration"
   ]
  },
  {
   "cell_type": "markdown",
   "metadata": {},
   "source": [
    "COMMENT: Figure out what each column does and maybe try to isolate one turbine to plot some data."
   ]
  },
  {
   "cell_type": "code",
   "execution_count": null,
   "metadata": {},
   "outputs": [],
   "source": [
    "# load into pandas dataframe\n",
    "data = {var:ds[var][:] for var in ds.variables.keys()}\n",
    "df = pd.DataFrame(data)"
   ]
  },
  {
   "cell_type": "code",
   "execution_count": 73,
   "metadata": {},
   "outputs": [
    {
     "data": {
      "text/html": [
       "<div>\n",
       "<style scoped>\n",
       "    .dataframe tbody tr th:only-of-type {\n",
       "        vertical-align: middle;\n",
       "    }\n",
       "\n",
       "    .dataframe tbody tr th {\n",
       "        vertical-align: top;\n",
       "    }\n",
       "\n",
       "    .dataframe thead th {\n",
       "        text-align: right;\n",
       "    }\n",
       "</style>\n",
       "<table border=\"1\" class=\"dataframe\">\n",
       "  <thead>\n",
       "    <tr style=\"text-align: right;\">\n",
       "      <th></th>\n",
       "      <th>time_dt</th>\n",
       "      <th>time_dt</th>\n",
       "      <th>time</th>\n",
       "      <th>connect</th>\n",
       "      <th>connect_qc</th>\n",
       "      <th>d31_1</th>\n",
       "      <th>d31_1_qc</th>\n",
       "      <th>d34_2</th>\n",
       "      <th>d34_2_qc</th>\n",
       "      <th>park</th>\n",
       "      <th>...</th>\n",
       "      <th>f5_ym_qc</th>\n",
       "      <th>f6_wsn</th>\n",
       "      <th>f6_wsn_qc</th>\n",
       "      <th>f6_ym</th>\n",
       "      <th>f6_ym_qc</th>\n",
       "      <th>f7_pow</th>\n",
       "      <th>f7_pow_qc</th>\n",
       "      <th>f7_wsn</th>\n",
       "      <th>f7_wsn_qc</th>\n",
       "      <th>f7_ym</th>\n",
       "    </tr>\n",
       "  </thead>\n",
       "  <tbody>\n",
       "    <tr>\n",
       "      <th>0</th>\n",
       "      <td>1991-12-22 23:36:00</td>\n",
       "      <td>1991-12-22 23:36:00</td>\n",
       "      <td>0</td>\n",
       "      <td>42.0</td>\n",
       "      <td>0</td>\n",
       "      <td>257.41</td>\n",
       "      <td>0.0</td>\n",
       "      <td>253.61</td>\n",
       "      <td>0.0</td>\n",
       "      <td>5253.5</td>\n",
       "      <td>...</td>\n",
       "      <td>0.0</td>\n",
       "      <td>NaN</td>\n",
       "      <td>NaN</td>\n",
       "      <td>-10.71</td>\n",
       "      <td>0.0</td>\n",
       "      <td>113.5</td>\n",
       "      <td>0.0</td>\n",
       "      <td>NaN</td>\n",
       "      <td>NaN</td>\n",
       "      <td>-9.38</td>\n",
       "    </tr>\n",
       "    <tr>\n",
       "      <th>1</th>\n",
       "      <td>1991-12-22 23:46:00</td>\n",
       "      <td>1991-12-22 23:46:00</td>\n",
       "      <td>10</td>\n",
       "      <td>42.0</td>\n",
       "      <td>0</td>\n",
       "      <td>259.57</td>\n",
       "      <td>0.0</td>\n",
       "      <td>255.78</td>\n",
       "      <td>0.0</td>\n",
       "      <td>5012.9</td>\n",
       "      <td>...</td>\n",
       "      <td>0.0</td>\n",
       "      <td>NaN</td>\n",
       "      <td>NaN</td>\n",
       "      <td>-4.01</td>\n",
       "      <td>0.0</td>\n",
       "      <td>98.9</td>\n",
       "      <td>0.0</td>\n",
       "      <td>NaN</td>\n",
       "      <td>NaN</td>\n",
       "      <td>-9.68</td>\n",
       "    </tr>\n",
       "    <tr>\n",
       "      <th>2</th>\n",
       "      <td>1991-12-22 23:56:00</td>\n",
       "      <td>1991-12-22 23:56:00</td>\n",
       "      <td>20</td>\n",
       "      <td>42.0</td>\n",
       "      <td>0</td>\n",
       "      <td>260.11</td>\n",
       "      <td>0.0</td>\n",
       "      <td>257.12</td>\n",
       "      <td>0.0</td>\n",
       "      <td>4272.9</td>\n",
       "      <td>...</td>\n",
       "      <td>0.0</td>\n",
       "      <td>NaN</td>\n",
       "      <td>NaN</td>\n",
       "      <td>-3.73</td>\n",
       "      <td>0.0</td>\n",
       "      <td>78.6</td>\n",
       "      <td>0.0</td>\n",
       "      <td>NaN</td>\n",
       "      <td>NaN</td>\n",
       "      <td>-5.21</td>\n",
       "    </tr>\n",
       "    <tr>\n",
       "      <th>3</th>\n",
       "      <td>1991-12-23 00:06:00</td>\n",
       "      <td>1991-12-23 00:06:00</td>\n",
       "      <td>30</td>\n",
       "      <td>42.0</td>\n",
       "      <td>0</td>\n",
       "      <td>255.64</td>\n",
       "      <td>0.0</td>\n",
       "      <td>254.12</td>\n",
       "      <td>0.0</td>\n",
       "      <td>5253.9</td>\n",
       "      <td>...</td>\n",
       "      <td>0.0</td>\n",
       "      <td>NaN</td>\n",
       "      <td>NaN</td>\n",
       "      <td>-6.03</td>\n",
       "      <td>0.0</td>\n",
       "      <td>113.8</td>\n",
       "      <td>0.0</td>\n",
       "      <td>NaN</td>\n",
       "      <td>NaN</td>\n",
       "      <td>-8.50</td>\n",
       "    </tr>\n",
       "    <tr>\n",
       "      <th>4</th>\n",
       "      <td>1991-12-23 00:16:00</td>\n",
       "      <td>1991-12-23 00:16:00</td>\n",
       "      <td>40</td>\n",
       "      <td>42.0</td>\n",
       "      <td>0</td>\n",
       "      <td>252.99</td>\n",
       "      <td>0.0</td>\n",
       "      <td>252.15</td>\n",
       "      <td>0.0</td>\n",
       "      <td>5740.6</td>\n",
       "      <td>...</td>\n",
       "      <td>0.0</td>\n",
       "      <td>NaN</td>\n",
       "      <td>NaN</td>\n",
       "      <td>-6.13</td>\n",
       "      <td>0.0</td>\n",
       "      <td>128.9</td>\n",
       "      <td>0.0</td>\n",
       "      <td>NaN</td>\n",
       "      <td>NaN</td>\n",
       "      <td>-5.75</td>\n",
       "    </tr>\n",
       "  </tbody>\n",
       "</table>\n",
       "<p>5 rows × 262 columns</p>\n",
       "</div>"
      ],
      "text/plain": [
       "              time_dt             time_dt  time  connect  connect_qc   d31_1  \\\n",
       "0 1991-12-22 23:36:00 1991-12-22 23:36:00     0     42.0           0  257.41   \n",
       "1 1991-12-22 23:46:00 1991-12-22 23:46:00    10     42.0           0  259.57   \n",
       "2 1991-12-22 23:56:00 1991-12-22 23:56:00    20     42.0           0  260.11   \n",
       "3 1991-12-23 00:06:00 1991-12-23 00:06:00    30     42.0           0  255.64   \n",
       "4 1991-12-23 00:16:00 1991-12-23 00:16:00    40     42.0           0  252.99   \n",
       "\n",
       "   d31_1_qc   d34_2  d34_2_qc    park  ...  f5_ym_qc  f6_wsn  f6_wsn_qc  \\\n",
       "0       0.0  253.61       0.0  5253.5  ...       0.0     NaN        NaN   \n",
       "1       0.0  255.78       0.0  5012.9  ...       0.0     NaN        NaN   \n",
       "2       0.0  257.12       0.0  4272.9  ...       0.0     NaN        NaN   \n",
       "3       0.0  254.12       0.0  5253.9  ...       0.0     NaN        NaN   \n",
       "4       0.0  252.15       0.0  5740.6  ...       0.0     NaN        NaN   \n",
       "\n",
       "   f6_ym  f6_ym_qc  f7_pow  f7_pow_qc  f7_wsn  f7_wsn_qc  f7_ym  \n",
       "0 -10.71       0.0   113.5        0.0     NaN        NaN  -9.38  \n",
       "1  -4.01       0.0    98.9        0.0     NaN        NaN  -9.68  \n",
       "2  -3.73       0.0    78.6        0.0     NaN        NaN  -5.21  \n",
       "3  -6.03       0.0   113.8        0.0     NaN        NaN  -8.50  \n",
       "4  -6.13       0.0   128.9        0.0     NaN        NaN  -5.75  \n",
       "\n",
       "[5 rows x 262 columns]"
      ]
     },
     "execution_count": 73,
     "metadata": {},
     "output_type": "execute_result"
    }
   ],
   "source": [
    "# add reliable time\n",
    "start_time = datetime.strptime(\"1991-12-22 23:36:00\", '%Y-%m-%d %H:%M:%S')\n",
    "df['time_dt'] = df.time.apply(lambda time: start_time + timedelta(minutes=time))\n",
    "# reorder df\n",
    "column = ['time_dt']\n",
    "column.extend(df.columns[:-1])\n",
    "df = df[column]\n",
    "df.head()"
   ]
  },
  {
   "cell_type": "code",
   "execution_count": null,
   "metadata": {},
   "outputs": [],
   "source": []
  }
 ],
 "metadata": {
  "kernelspec": {
   "display_name": "Python 3.8.12 64-bit ('windpoweroutput')",
   "language": "python",
   "name": "python3"
  },
  "language_info": {
   "codemirror_mode": {
    "name": "ipython",
    "version": 3
   },
   "file_extension": ".py",
   "mimetype": "text/x-python",
   "name": "python",
   "nbconvert_exporter": "python",
   "pygments_lexer": "ipython3",
   "version": "3.8.12"
  },
  "orig_nbformat": 4,
  "vscode": {
   "interpreter": {
    "hash": "08d6e791e4a92dee3142b9682b4ea4b33349012332849f47335a1ba79d48cb2f"
   }
  }
 },
 "nbformat": 4,
 "nbformat_minor": 2
}
